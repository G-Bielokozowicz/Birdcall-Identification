{
 "cells": [
  {
   "cell_type": "code",
   "execution_count": 9,
   "metadata": {},
   "outputs": [],
   "source": [
    "import pandas as pd\n",
    "import numpy as np\n",
    "import seaborn as sns\n",
    "import matplotlib as plt\n",
    "\n",
    "%matplotlib inline"
   ]
  },
  {
   "cell_type": "code",
   "execution_count": 12,
   "metadata": {},
   "outputs": [
    {
     "data": {
      "text/plain": [
       "array(['Recording_ID', 'Genus', 'Specific_epithet', 'Subspecies',\n",
       "       'English_name', 'Recordist', 'Country', 'Locality', 'Latitude',\n",
       "       'Longitude', 'Vocalization_type', 'Audio_file', 'License', 'Url',\n",
       "       'Quality', 'Time', 'Date', 'Altitude', 'file.name',\n",
       "       'Spectrogram_small', 'Spectrogram_med', 'Spectrogram_large',\n",
       "       'Spectrogram_full', 'Length', 'Uploaded', 'Other_species',\n",
       "       'Remarks', 'Bird_seen', 'Playback_used', 'Other_species1',\n",
       "       'Other_species2', 'Other_species3', 'Other_species4',\n",
       "       'Other_species5', 'Other_species6', 'Other_species7',\n",
       "       'Other_species8', 'Other_species9', 'Other_species10',\n",
       "       'Other_species11', 'Other_species12', 'Other_species13',\n",
       "       'Other_species14', 'Other_species15', 'Other_species16',\n",
       "       'Other_species17', 'Other_species18', 'Other_species19',\n",
       "       'Other_species20', 'Other_species21', 'Other_species22',\n",
       "       'Other_species23', 'Other_species24', 'Other_species25',\n",
       "       'Other_species26', 'Other_species27', 'Other_species28',\n",
       "       'Other_species29', 'Other_species30', 'Species', 'Path'],\n",
       "      dtype=object)"
      ]
     },
     "execution_count": 12,
     "metadata": {},
     "output_type": "execute_result"
    }
   ],
   "source": [
    "df = pd.read_csv('metadata.csv')\n",
    "df.columns.values\n",
    "\n"
   ]
  }
 ],
 "metadata": {
  "kernelspec": {
   "display_name": ".venv",
   "language": "python",
   "name": "python3"
  },
  "language_info": {
   "codemirror_mode": {
    "name": "ipython",
    "version": 3
   },
   "file_extension": ".py",
   "mimetype": "text/x-python",
   "name": "python",
   "nbconvert_exporter": "python",
   "pygments_lexer": "ipython3",
   "version": "3.11.8"
  }
 },
 "nbformat": 4,
 "nbformat_minor": 2
}
